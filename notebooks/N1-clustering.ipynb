{
  "nbformat": 4,
  "nbformat_minor": 0,
  "metadata": {
    "colab": {
      "name": "Notebook-1.ipynb",
      "provenance": [],
      "collapsed_sections": []
    },
    "kernelspec": {
      "name": "python3",
      "display_name": "Python 3"
    },
    "language_info": {
      "name": "python"
    }
  },
  "cells": [
    {
      "cell_type": "code",
      "metadata": {
        "id": "ozBlNcUih2OH"
      },
      "source": [
        "# clone github with persistence-based clustering code\n",
        "! git clone https://github.com/LuisScoccola/gamma-linkage.git"
      ],
      "execution_count": null,
      "outputs": []
    },
    {
      "cell_type": "code",
      "metadata": {
        "id": "uFwxDEZAh64t"
      },
      "source": [
        "# necessary imports\n",
        "import sys\n",
        "sys.path.append(\"gamma-linkage\")\n",
        "from linkage.linkage import *\n",
        "import numpy as np\n",
        "from sklearn import datasets\n",
        "import matplotlib.pyplot as plt\n",
        "from urllib.request import urlopen\n",
        "from io import BytesIO\n",
        "sys.setrecursionlimit(3000)"
      ],
      "execution_count": 2,
      "outputs": []
    },
    {
      "cell_type": "code",
      "metadata": {
        "id": "4m4lSy7mjfNC"
      },
      "source": [
        "# define functions we will need (you can ignore this)\n",
        "\n",
        "def PDdensityFilteredRipsGraph(data, kernel_bandwidth, rips_scale, y_max = None) :\n",
        "  # outputs persistence diagram of rips graph filtered by KDE\n",
        "  x = MPSpace(data)\n",
        "  x.fit(kernel='epanechnikov')\n",
        "  gamma = Gamma_curve.constant_s_t_k_indexed(kernel_bandwidth, rips_scale)\n",
        "  hc = x.gamma_linkage(gamma)\n",
        "  pd = hc.PD()[0]\n",
        "  pd = np.array(list(map(lambda t : [t[0],np.abs(t[1]-t[0])], pd )))\n",
        "\n",
        "  plt.figure(figsize=(3,3))\n",
        "  if y_max is not None :\n",
        "    plt.ylim([0,y_max])\n",
        "  plt.xlabel(\"Birth\")\n",
        "  plt.ylabel(\"Lifetime\")\n",
        "  plt.locator_params(axis=\"y\", nbins=20)\n",
        "  plt.scatter(pd[:,0],pd[:,1], s = 10)\n",
        "  plt.grid(axis='y')\n",
        "  plt.show()\n",
        "\n",
        "def clusteringDensityFilteredRipsGraph(data, kernel_bandwidth, rips_scale, persistence_threshold) :\n",
        "  # outputs clustering of rips graph filtered by KDE, with a certain persistence threshold\n",
        "  x = MPSpace(data)\n",
        "  x.fit(kernel='epanechnikov')\n",
        "  gamma = Gamma_curve.constant_s_t_k_indexed(kernel_bandwidth, rips_scale)\n",
        "  hc = x.gamma_linkage(gamma)\n",
        "  return hc.persistence_based_flattening(threshold=persistence_threshold)[1]\n",
        "\n",
        "def plotDataset(data,clustering=None):\n",
        "  # plots a dataset and optionally colors by clustering\n",
        "  _ = plt.figure()\n",
        "  fig1, ax1 = plt.subplots() ; _ = fig1.set_figheight(3) ; _ = fig1.set_figwidth(4)\n",
        "  _ = plt.locator_params(axis=\"x\", nbins=10)\n",
        "  _ = plt.locator_params(axis=\"y\", nbins=10)\n",
        "  if clustering is not None:\n",
        "    _ = plt.scatter(data.T[0], data.T[1], s=5, alpha = 0.3, c = -clustering, cmap=\"Accent\")\n",
        "  else :\n",
        "    _ = plt.scatter(data.T[0], data.T[1], s=5, alpha = 0.3, cmap=\"Accent\")\n",
        "  _ = plt.show()"
      ],
      "execution_count": 3,
      "outputs": []
    },
    {
      "cell_type": "markdown",
      "metadata": {
        "id": "fTtyc0I2vfBs"
      },
      "source": [
        "# Dataset 1\n"
      ]
    },
    {
      "cell_type": "code",
      "metadata": {
        "id": "Sv_Bk05Rt1R_"
      },
      "source": [
        "# generate first dataset\n",
        "\n",
        "n_true_points = int(1000 * 0.7) ; data1, _ = datasets.make_moons(n_samples=n_true_points, noise=0.1, random_state=0)\n",
        "np.random.seed(0) ; n_noise = 1000 - n_true_points ; noise = (np.random.random_sample((n_noise,2)) - 0.4) * 4 ; data1 = np.vstack((data1,noise))\n",
        "\n",
        "plotDataset(data1)"
      ],
      "execution_count": null,
      "outputs": []
    },
    {
      "cell_type": "markdown",
      "metadata": {
        "id": "RtbK3UtpwULN"
      },
      "source": [
        "\n",
        "Find values for [KERNEL_BANDWIDTH] and [RIPS_SCALE] such that the persistence diagram below seems adequate."
      ]
    },
    {
      "cell_type": "code",
      "metadata": {
        "id": "XS_HGhs2uRWa"
      },
      "source": [
        "# uncomment and fill in!\n",
        "\n",
        "#KERNEL_BANDWIDTH = ...\n",
        "#RIPS_SCALE = ...\n",
        "\n",
        "#PDdensityFilteredRipsGraph(data1, KERNEL_BANDWIDTH,RIPS_SCALE)"
      ],
      "execution_count": 5,
      "outputs": []
    },
    {
      "cell_type": "markdown",
      "metadata": {
        "id": "1Z4qZRJ_wFQE"
      },
      "source": [
        "Find a value for [PERSISTENCE_THRESHOLD] looking at the persistence diagram above and make sure it produces a reasonable clustering of the data."
      ]
    },
    {
      "cell_type": "code",
      "metadata": {
        "id": "XeBSadyhulGw"
      },
      "source": [
        "# uncomment and fill in!\n",
        "\n",
        "#PERSISTENCE_THRESHOLD = ...\n",
        "\n",
        "#c = clusteringDensityFilteredRipsGraph(data1, KERNEL_BANDWIDTH,RIPS_SCALE,PERSISTENCE_THRESHOLD)\n",
        "\n",
        "#plotDataset(data1,clustering=c)"
      ],
      "execution_count": 6,
      "outputs": []
    },
    {
      "cell_type": "code",
      "metadata": {
        "id": "W6V3drmYNwEY"
      },
      "source": [
        "# to get a sense of the scale of a pointcloud, it can be useful to see a histogram of the pairwise distances.\n",
        "# one can do this as follows\n",
        "\n",
        "# sample 500 pairwise distances\n",
        "data = data1\n",
        "n_points = data.shape[0]\n",
        "random_pairs = np.array([np.random.randint(n_points,size=500),np.random.randint(n_points,size=500)]).T\n",
        "pairwise_distances = [ np.linalg.norm(data[i] - data[j]) for i,j in random_pairs ]\n",
        "\n",
        "# plot the pairwise distances as a histogram\n",
        "_ = plt.hist(pairwise_distances, 30)\n",
        "\n",
        "# we see that a large amount of the distances are between ~1 and ~2.\n",
        "# for clustering, this suggests that we may want to choose distance scales smaller than this, perhaps around 0.1 or 0.5"
      ],
      "execution_count": null,
      "outputs": []
    },
    {
      "cell_type": "markdown",
      "metadata": {
        "id": "zecbuDaHwahl"
      },
      "source": [
        "# Dataset 2\n"
      ]
    },
    {
      "cell_type": "code",
      "metadata": {
        "id": "laaRBOLks7Ex"
      },
      "source": [
        "# download second dataset to variable\n",
        "\n",
        "url = \"https://github.com/scikit-learn-contrib/hdbscan/blob/4052692af994610adc9f72486a47c905dd527c94/notebooks/clusterable_data.npy?raw=true\"\n",
        "f = urlopen(url) ; rf = f.read() ; data2 = np.load(BytesIO(rf))"
      ],
      "execution_count": 8,
      "outputs": []
    },
    {
      "cell_type": "code",
      "metadata": {
        "id": "j_Zq2HpJHyEm"
      },
      "source": [
        "# plot dataset\n",
        "\n",
        "# choose values for KERNEL_BANDWIDTH and RIPS_SCALE and plot the persistence diagram\n",
        "\n",
        "# choose a reasonable value for PERSISTENCE_THRESHOLD by looking at persistence diagram\n",
        "\n",
        "# plot resulting clustering"
      ],
      "execution_count": 9,
      "outputs": []
    },
    {
      "cell_type": "markdown",
      "metadata": {
        "id": "b9tNB1TNwodl"
      },
      "source": [
        "# Dataset 3\n"
      ]
    },
    {
      "cell_type": "code",
      "metadata": {
        "id": "9U6vDgyv5H5Q"
      },
      "source": [
        "# generate third dataset\n",
        "\n",
        "data3, _ = datasets.make_blobs(n_samples=1000, centers=[[0,0],[10,0],[50,0]], n_features=2, random_state=0, cluster_std=[1,1,10])"
      ],
      "execution_count": 10,
      "outputs": []
    },
    {
      "cell_type": "markdown",
      "metadata": {
        "id": "tIdXnKXUIlVT"
      },
      "source": [
        "# Dataset 4\n"
      ]
    },
    {
      "cell_type": "code",
      "metadata": {
        "id": "XQRovIXsIu1e"
      },
      "source": [
        "# generate last dataset\n",
        "\n",
        "digits = datasets.load_digits() ; indices = np.where(np.isin(digits['target'],np.array([0,4,6,7])))[0] ; data4 = digits['data'][indices]"
      ],
      "execution_count": 11,
      "outputs": []
    },
    {
      "cell_type": "code",
      "metadata": {
        "id": "fCrtVLr_PJKK"
      },
      "source": [
        "# the dataset contains only some digits of the dataset found at https://archive.ics.uci.edu/ml/datasets/Optical+Recognition+of+Handwritten+Digits\n",
        "# display some elements of the dataset\n",
        "\n",
        "fig, axes = plt.subplots(nrows = 1, ncols = 30,figsize=(20,3))\n",
        "for j, ax in enumerate(axes.ravel()):\n",
        "  ax.matshow(digits.images[indices][j], cmap=plt.cm.binary)\n",
        "  ax.axis('off')\n",
        "fig.tight_layout()\n",
        "plt.show()"
      ],
      "execution_count": null,
      "outputs": []
    },
    {
      "cell_type": "code",
      "metadata": {
        "id": "2rLwiiSLIyls"
      },
      "source": [
        "# choose values for KERNEL_BANDWIDTH and RIPS_SCALE and plot the persistence diagram\n",
        "# ...\n",
        "\n",
        "# choose a reasonable value for PERSISTENCE_THRESHOLD by looking at persistence diagram\n",
        "# ..."
      ],
      "execution_count": 13,
      "outputs": []
    },
    {
      "cell_type": "code",
      "metadata": {
        "id": "uv5wwXe2QqXd"
      },
      "source": [
        "# we now define a bad clustering of the data by just assigning datapoints to a cluster at random.\n",
        "# this is just to test the code below, you should find a good clustering c by using the techniques we have learned\n",
        "\n",
        "# NOTE: change the line below!\n",
        "c = np.random.randint(6, size = data4.shape[0])"
      ],
      "execution_count": 14,
      "outputs": []
    },
    {
      "cell_type": "code",
      "metadata": {
        "id": "CMjZM18FLeoG"
      },
      "source": [
        "# if your output clustering is in the variable c, you can use the following code to print, in each line, 10 images in each cluster. So the final plot has one line per cluster.\n",
        "# use this to make sure that the clustering you are producing is reasonable!\n",
        "\n",
        "N = 10\n",
        "\n",
        "n_clusters = max(c)\n",
        "for i in range(n_clusters+1) :\n",
        "  indices_i = np.where(c==i)[0]\n",
        "  fig, axes = plt.subplots(nrows = 1, ncols = N)\n",
        "  for j, ax in enumerate(axes.ravel()):\n",
        "    ax.matshow(digits.images[indices][indices_i[j]], cmap=plt.cm.binary)\n",
        "    ax.axis('off')\n",
        "  fig.tight_layout()\n",
        "  plt.show()"
      ],
      "execution_count": null,
      "outputs": []
    }
  ]
}