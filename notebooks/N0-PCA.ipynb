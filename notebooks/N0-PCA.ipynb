{
  "nbformat": 4,
  "nbformat_minor": 0,
  "metadata": {
    "colab": {
      "name": "Notebook-0.ipynb",
      "provenance": [],
      "collapsed_sections": [],
      "toc_visible": true
    },
    "kernelspec": {
      "name": "python3",
      "display_name": "Python 3"
    },
    "language_info": {
      "name": "python"
    }
  },
  "cells": [
    {
      "cell_type": "markdown",
      "metadata": {
        "id": "1_oEV3mqIz1J"
      },
      "source": [
        "## Import libraries"
      ]
    },
    {
      "cell_type": "code",
      "metadata": {
        "id": "m9vNZ6ENeTY1"
      },
      "source": [
        "# from the datasets module of scikit learn, import the load_digits function\n",
        "from sklearn.datasets import load_digits\n",
        "# from the matplotlib library, import the pyplot module, for plotting. We give it the name plt as this is standard practice\n",
        "from matplotlib import pyplot as plt\n",
        "# from scikit learn, import Principal Components Analysis\n",
        "from sklearn.decomposition import PCA\n",
        "# import numpy and name it np, as this is standard practice\n",
        "import numpy as np"
      ],
      "execution_count": 2,
      "outputs": []
    },
    {
      "cell_type": "markdown",
      "metadata": {
        "id": "OsUpbl2nI5h4"
      },
      "source": [
        "## Digits example"
      ]
    },
    {
      "cell_type": "code",
      "metadata": {
        "id": "44zs5lHRejp-"
      },
      "source": [
        "# let us import the digits dataset\n",
        "digits = load_digits()"
      ],
      "execution_count": 3,
      "outputs": []
    },
    {
      "cell_type": "code",
      "metadata": {
        "id": "zR9Otjftevvu"
      },
      "source": [
        "# the variable digits is a dictionary. Let's see what keys it has\n",
        "print(list(digits.keys()))"
      ],
      "execution_count": null,
      "outputs": []
    },
    {
      "cell_type": "code",
      "metadata": {
        "id": "jvFsUjKLe2xv"
      },
      "source": [
        "# we can inspect the value of each of these keys. For instance, if we print the value for data, we get a pointcloud of 1797 points in R^64\n",
        "digits['data'].shape"
      ],
      "execution_count": null,
      "outputs": []
    },
    {
      "cell_type": "code",
      "metadata": {
        "id": "fygQnJlpfHPE"
      },
      "source": [
        "# the value of target contains the label for each of the 1797 images\n",
        "print(digits['target'].shape)\n",
        "\n",
        "# let's display the label for the first 25 digits\n",
        "print(digits['target'][:25])"
      ],
      "execution_count": null,
      "outputs": []
    },
    {
      "cell_type": "code",
      "metadata": {
        "id": "pb8ThdxMfb_9"
      },
      "source": [
        "# the data consists of a specific encoding of each image. The images themselves are the value of the \"images\" keys:\n",
        "digits['images'].shape\n",
        "\n",
        "# we see that there are 1797 elements, each consisting of a 8 by 8 vector/matrix"
      ],
      "execution_count": null,
      "outputs": []
    },
    {
      "cell_type": "code",
      "metadata": {
        "id": "L5iL6qsbdeVk"
      },
      "source": [
        "# let us display the first 25 images, with their corresponding label\n",
        "\n",
        "fig = plt.figure(figsize=(5, 5))\n",
        "\n",
        "for i in range(25):\n",
        "    ax = fig.add_subplot(5, 5, i + 1, xticks=[], yticks=[])\n",
        "    ax.imshow(digits.images[i], cmap=plt.cm.binary)\n",
        "    ax.text(0, 7, str(digits.target[i]))\n",
        "\n",
        "plt.figure()"
      ],
      "execution_count": null,
      "outputs": []
    },
    {
      "cell_type": "code",
      "metadata": {
        "id": "PZRBA_woeLSl"
      },
      "source": [
        "# let's display the first two principal components of each element in the pointcloud\n",
        "\n",
        "# we construct a PCA object with 2 components\n",
        "pca = PCA(n_components=2)\n",
        "\n",
        "# we compute the 2D projection of the digits data\n",
        "proj2d = pca.fit_transform(digits.data)\n",
        "\n",
        "# we display the projection, coloring each point by its label\n",
        "plt.scatter(proj2d[:, 0], proj2d[:, 1], c=digits.target, cmap=\"Paired\")\n",
        "plt.colorbar()"
      ],
      "execution_count": null,
      "outputs": []
    },
    {
      "cell_type": "code",
      "metadata": {
        "id": "X9DkgZ-Cg_Jl"
      },
      "source": [
        "# let us now do a 2D projection of just one of the classes, to try to interpret what the 2 principal components are recovering in that case\n",
        "\n",
        "# find the indices for the images that contain a 1\n",
        "indices = np.where(digits['target']==1)[0]\n",
        "\n",
        "# project to 2D only the 1's\n",
        "pca = PCA(n_components=2)\n",
        "proj = pca.fit_transform(digits.data[indices])\n",
        "plt.scatter(proj[:,0],proj[:,1])\n",
        "plt.show()"
      ],
      "execution_count": null,
      "outputs": []
    },
    {
      "cell_type": "code",
      "metadata": {
        "id": "aO_5TN6Dhrud"
      },
      "source": [
        "# there seems to be a fair amount of structure in the plot above.\n",
        "# for instance, there seem to be two distinct clusters, one with significantly fewer points. The larger cluster seems also have nontrivial structure.\n",
        "# let's now plot some of the digits on top of their corresponding point in the 2D embedding, to try to understand what the 2 principal components are capturing\n",
        "\n",
        "# plotting all the images would be too much, so let us just plot 100\n",
        "subsample = np.random.choice(len(indices), 100)\n",
        "\n",
        "from matplotlib.offsetbox import OffsetImage, AnnotationBbox\n",
        "\n",
        "fig, ax = plt.subplots(figsize=(15,15))\n",
        "ax.scatter(proj[subsample,0], proj[subsample,1]) \n",
        "\n",
        "for x0, y0, im in zip(proj[subsample,0], proj[subsample,1],digits[\"images\"][indices][subsample]):\n",
        "    ab = AnnotationBbox(OffsetImage(im, cmap='binary',zoom=2), (x0, y0))\n",
        "    ax.add_artist(ab)"
      ],
      "execution_count": null,
      "outputs": []
    },
    {
      "cell_type": "code",
      "metadata": {
        "id": "PuLeMw-PjgCq"
      },
      "source": [
        "# interpret the plot above!"
      ],
      "execution_count": null,
      "outputs": []
    },
    {
      "cell_type": "markdown",
      "metadata": {
        "id": "HEv3lLdjJBXt"
      },
      "source": [
        "## Persistent homology example"
      ]
    },
    {
      "cell_type": "code",
      "metadata": {
        "id": "pT5epOOYInQI"
      },
      "source": [
        "# we conclude by computing persistence homology in a very simple example to see how the Python wrapper for Ripser works"
      ],
      "execution_count": null,
      "outputs": []
    },
    {
      "cell_type": "code",
      "metadata": {
        "id": "BCmGr3LNK403"
      },
      "source": [
        "# install Ripser in the cloud, to use in this session\n",
        "! pip install ripser"
      ],
      "execution_count": null,
      "outputs": []
    },
    {
      "cell_type": "code",
      "metadata": {
        "id": "Kx_sXiNOLA-f"
      },
      "source": [
        "# import ripser, to compute persistent homology, and persim, to plot persistence diagrams\n",
        "from ripser import ripser\n",
        "from persim import plot_diagrams"
      ],
      "execution_count": null,
      "outputs": []
    },
    {
      "cell_type": "code",
      "metadata": {
        "id": "uc66zMoyIxwg"
      },
      "source": [
        "# sample a noisy circle\n",
        "\n",
        "n_points = 100\n",
        "circle = np.array([[np.sin(x),np.cos(x)] for x in np.linspace(0,2*np.pi,n_points)])\n",
        "var = 0.01\n",
        "circle += np.random.multivariate_normal([0,0],var * np.array([[1,0],[0,1]]), n_points)\n",
        "\n",
        "_ = plt.scatter(circle[:,0],circle[:,1])"
      ],
      "execution_count": null,
      "outputs": []
    },
    {
      "cell_type": "code",
      "metadata": {
        "id": "bco4aXQGKANY"
      },
      "source": [
        "# compute the persistence diagrams of dimensions 0 and 1 and plot them\n",
        "pds = ripser(circle, maxdim = 1)['dgms']\n",
        "plot_diagrams(pds)"
      ],
      "execution_count": null,
      "outputs": []
    },
    {
      "cell_type": "code",
      "metadata": {
        "id": "96u0nub7LZnP"
      },
      "source": [
        "# interpret the diagram above!"
      ],
      "execution_count": null,
      "outputs": []
    }
  ]
}