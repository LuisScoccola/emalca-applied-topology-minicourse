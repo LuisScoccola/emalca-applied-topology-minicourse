{
  "nbformat": 4,
  "nbformat_minor": 0,
  "metadata": {
    "colab": {
      "name": "Notebook_2 (2).ipynb",
      "provenance": [],
      "collapsed_sections": []
    },
    "kernelspec": {
      "name": "python3",
      "display_name": "Python 3"
    },
    "language_info": {
      "name": "python"
    }
  },
  "cells": [
    {
      "cell_type": "markdown",
      "metadata": {
        "id": "fW-oa7SyKuDe"
      },
      "source": [
        "**Note:** This notebook is based on a notebook authored by Chris Tralie, which can be found at: https://github.com/ctralie/TDALabs/blob/master/SlidingWindow2-PersistentHomology.ipynb"
      ]
    },
    {
      "cell_type": "code",
      "metadata": {
        "id": "1iFMHMh7P2Bg"
      },
      "source": [
        "!pip install ripser"
      ],
      "execution_count": null,
      "outputs": []
    },
    {
      "cell_type": "code",
      "metadata": {
        "scrolled": false,
        "id": "ev8tp4lUPrn2"
      },
      "source": [
        "# necessary imports\n",
        "import numpy as np\n",
        "from ripser import ripser\n",
        "from persim import plot_diagrams\n",
        "import matplotlib.pyplot as plt\n",
        "from matplotlib import gridspec\n",
        "from mpl_toolkits.mplot3d import Axes3D\n",
        "from sklearn.decomposition import PCA\n",
        "from scipy.interpolate import InterpolatedUnivariateSpline\n",
        "import scipy.io.wavfile\n",
        "import ipywidgets as widgets\n",
        "from IPython.display import display\n",
        "import warnings\n",
        "warnings.filterwarnings('ignore')\n",
        "from IPython.display import clear_output\n",
        "import plotly.express as px"
      ],
      "execution_count": 2,
      "outputs": []
    },
    {
      "cell_type": "markdown",
      "metadata": {
        "id": "PlnP31smPrn6"
      },
      "source": [
        "## Sliding Window Code\n",
        "The code below performs a sliding window embedding on a 1D signal.  The parameters are as follows:\n",
        "\n",
        "| | |\n",
        "|:-:|---|\n",
        "|$x$   | The 1-D signal (numpy array)   |\n",
        "|dim|The dimension of the embedding|\n",
        "|$\\tau$   | The skip between samples in a given window  |\n",
        "|$dT$   | The distance to slide from one window to the next  |\n",
        "\n",
        "That is, along the signal given by the array $x$, the first three windows will will be $$\\begin{bmatrix} x(\\tau)\\\\ x(2\\tau) \\\\ \\ldots \\\\ x((\\mbox{dim}-1)\\cdot\\tau)\\end{bmatrix},  \\begin{bmatrix} x(dT + \\tau)\\\\ x(dT +2\\tau) \\\\ \\ldots \\\\ x(dT +(\\mbox{dim}-1)\\cdot\\tau)\\end{bmatrix},  \\begin{bmatrix} x(2dT + \\tau)\\\\ x(2dT +2\\tau) \\\\ \\ldots \\\\ x(2dT +(\\mbox{dim}-1)\\cdot\\tau)\\end{bmatrix}$$\n",
        "\n",
        "The function *getSlidingWindow* below creates an array $X$ containing the windows as its columns."
      ]
    },
    {
      "cell_type": "code",
      "metadata": {
        "scrolled": false,
        "id": "xCxieOryPrn6"
      },
      "source": [
        "def getSlidingWindow(x, dim, Tau, dT):\n",
        "    \"\"\"\n",
        "    Return a sliding window of a time series,\n",
        "    using arbitrary sampling.  Use linear interpolation\n",
        "    to fill in values in windows not on the original grid\n",
        "    Parameters\n",
        "    ----------\n",
        "    x: ndarray(N)\n",
        "        The original time series\n",
        "    dim: int\n",
        "        Dimension of sliding window (number of lags+1)\n",
        "    Tau: float\n",
        "        Length between lags, in units of time series\n",
        "    dT: float\n",
        "        Length between windows, in units of time series\n",
        "    Returns\n",
        "    -------\n",
        "    X: ndarray(N, dim)\n",
        "        All sliding windows stacked up\n",
        "    \"\"\"\n",
        "    N = len(x)\n",
        "    NWindows = int(np.floor((N-dim*Tau)/dT))\n",
        "    if NWindows <= 0:\n",
        "        print(\"Error: Tau too large for signal extent\")\n",
        "        return np.zeros((3, dim))\n",
        "    X = np.zeros((NWindows, dim))\n",
        "    spl = InterpolatedUnivariateSpline(np.arange(N), x)\n",
        "    for i in range(NWindows):\n",
        "        idxx = dT*i + Tau*np.arange(dim)\n",
        "        start = int(np.floor(idxx[0]))\n",
        "        end = int(np.ceil(idxx[-1]))+2\n",
        "        # Only take windows that are within range\n",
        "        if end >= len(x):\n",
        "            X = X[0:i, :]\n",
        "            break\n",
        "        X[i, :] = spl(idxx)\n",
        "    return X"
      ],
      "execution_count": 3,
      "outputs": []
    },
    {
      "cell_type": "markdown",
      "metadata": {
        "id": "WeYimSPWtqsJ"
      },
      "source": [
        "# Example 1: sliding window embedding of a signal with a single frequency\n"
      ]
    },
    {
      "cell_type": "code",
      "metadata": {
        "scrolled": false,
        "id": "IlkraYoxP5G_"
      },
      "source": [
        "# the following code creates signal1, computes a representation of the sliding window embedding, and the persistent homology of this pointcloud\n",
        "# use the parameters to see their effect on the output\n",
        "\n",
        "dimsliderval = 20\n",
        "tausliderval = 1\n",
        "noiseval = 0\n",
        "noise = np.random.randn(10000)\n",
        "signal1 = None\n",
        "\n",
        "def on_value_change(change):\n",
        "\n",
        "    global dimsliderval\n",
        "    global tausliderval\n",
        "    global noiseval\n",
        "\n",
        "    global dimslider\n",
        "    global Tauslider\n",
        "    global noiseampslider\n",
        "\n",
        "    dimsliderval = dimslider.value\n",
        "    tausliderval = Tauslider.value\n",
        "    noiseval = noiseampslider.value\n",
        "\n",
        "    execute_computation1()\n",
        "\n",
        "def execute_computation1():\n",
        "    global dimsliderval\n",
        "    global tausliderval\n",
        "    global noiseval\n",
        "\n",
        "    global dimslider\n",
        "    global Tauslider\n",
        "    global noiseampslider\n",
        "\n",
        "    global signal1\n",
        "\n",
        "    clear_output(wait=True)\n",
        "\n",
        "    dimslider = widgets.IntSlider(min=1,max=30,value=dimsliderval,description='Dimension:',continuous_update=False)\n",
        "    dimslider.observe(on_value_change, names='value')\n",
        "\n",
        "    Tauslider = widgets.FloatSlider(min=0.1,max=5,step=0.1,value=tausliderval,description=r'tau :' ,continuous_update=False)\n",
        "    Tauslider.observe(on_value_change, names='value')\n",
        "\n",
        "    noiseampslider = widgets.FloatSlider(min=0,max=2,step=0.1,value=noiseval,description='Noise Amplitude',continuous_update=False)\n",
        "    noiseampslider.observe(on_value_change, names='value')\n",
        "\n",
        "    fig = plt.figure(figsize=(9.5, 4))\n",
        "\n",
        "    display(widgets.HBox(( dimslider,Tauslider, noiseampslider)))\n",
        "\n",
        "    plt.clf()\n",
        "    # Step 1: Setup the signal\n",
        "    T = 40 # The period in number of samples\n",
        "    NPeriods = 4 # How many periods to go through\n",
        "    N = T*NPeriods # The total number of samples\n",
        "    t = np.linspace(0, 2*np.pi*NPeriods, N+1)[0:N] # Sampling indices in time\n",
        "    signal1 = np.cos(t) # The final signal\n",
        "    signal1 += noiseampslider.value * noise[:len(signal1)]\n",
        "\n",
        "    # Step 2: Do a sliding window embedding\n",
        "    dim = dimslider.value\n",
        "    Tau = Tauslider.value\n",
        "    dT = 0.5\n",
        "    X = getSlidingWindow(signal1, dim, Tau, dT)\n",
        "    extent = Tau*dim\n",
        "\n",
        "    # Step 3: Do Rips Filtration\n",
        "    PDs = ripser(X, maxdim=1)['dgms']\n",
        "    I = PDs[1]\n",
        "\n",
        "    # Step 4: Perform PCA down to 2D for visualization\n",
        "    pca = PCA(n_components = 2)\n",
        "    Y = pca.fit_transform(X)\n",
        "    eigs = pca.explained_variance_\n",
        "\n",
        "    # Step 5: Plot original signal, 2-D projection, and the persistence diagram\n",
        "    gs = gridspec.GridSpec(2, 2)\n",
        "    ax = plt.subplot(gs[0,0])\n",
        "    ax.plot(signal1)\n",
        "    ax.set_ylim((2*min(signal1), 2*max(signal1)))\n",
        "    ax.set_title(\"Original Signal\")\n",
        "    ax.set_xlabel(\"Sample Number\")\n",
        "    yr = np.max(signal1)-np.min(signal1)\n",
        "    yr = [np.min(signal1)-0.1*yr, np.max(signal1)+0.1*yr]\n",
        "    ax.plot([extent, extent], yr, 'r')\n",
        "    ax.plot([0, 0], yr, 'r')     \n",
        "    ax.plot([0, extent], [yr[0]]*2, 'r')\n",
        "    ax.plot([0, extent], [yr[1]]*2, 'r')\n",
        "\n",
        "    ax2 = plt.subplot(gs[1,0])\n",
        "    plot_diagrams(PDs)\n",
        "    plt.title(\"Max Persistence = %.3g\"%np.max(I[:, 1] - I[:, 0]))\n",
        "\n",
        "    ax3 = plt.subplot(gs[:,1])\n",
        "    ax3.scatter(Y[:, 0], Y[:, 1])\n",
        "    plt.axis('equal')\n",
        "    plt.title(\"2-D PCA, Eigenvalues: %.3g, %.3g \"%(eigs[0],eigs[1]))\n",
        "\n",
        "    plt.tight_layout()\n",
        "  \n",
        "execute_computation1()"
      ],
      "execution_count": null,
      "outputs": []
    },
    {
      "cell_type": "markdown",
      "metadata": {
        "id": "7T_bGUoOt4Ro"
      },
      "source": [
        "# Example 2: sliding window embedding of a signal which is a sum of two frequencies\n"
      ]
    },
    {
      "cell_type": "code",
      "metadata": {
        "scrolled": false,
        "id": "zvMqHBJNP5HE"
      },
      "source": [
        "secondfreqval2 = 3\n",
        "dimsliderval2 = 20\n",
        "tausliderval2 = 1\n",
        "noiseval2 = 0\n",
        "signal2 = None\n",
        "\n",
        "def on_value_change2(change):\n",
        "    global dimsliderval2\n",
        "    global tausliderval2\n",
        "    global noiseval2\n",
        "    global secondfreqval2\n",
        "\n",
        "    global dimslider2\n",
        "    global Tauslider2\n",
        "    global noiseampslider2\n",
        "    global secondfreq2\n",
        "\n",
        "    dimsliderval2 = dimslider2.value\n",
        "    tausliderval2 = Tauslider2.value\n",
        "    noiseval2 = noiseampslider2.value\n",
        "    secondfreqval2 = secondfreq2.value\n",
        "\n",
        "    execute_computation3()\n",
        "\n",
        "\n",
        "noise = np.random.randn(10000)\n",
        "\n",
        "\n",
        "def execute_computation3():\n",
        "    global dimsliderval2\n",
        "    global tausliderval2\n",
        "    global noiseval2\n",
        "    global secondfreqval2\n",
        "\n",
        "    global dimslider2\n",
        "    global Tauslider2\n",
        "    global noiseampslider2\n",
        "    global secondfreq2\n",
        "    global signal2\n",
        "\n",
        "    clear_output(wait=True)\n",
        "\n",
        "    fig = plt.figure(figsize=(9.5, 5))\n",
        "\n",
        "    secondfreq2 = widgets.Dropdown(options=[ 2, 3, np.pi],value=secondfreqval2,description='Second Frequency:',disabled=False)\n",
        "    secondfreq2.observe(on_value_change2,names='value')\n",
        "\n",
        "    noiseampslider2 = widgets.FloatSlider(min=0,max=2,step=0.1,value=noiseval2,description='Noise Amplitude',continuous_update=False)\n",
        "    noiseampslider2.observe(on_value_change2, names='value')\n",
        "\n",
        "    dimslider2 = widgets.IntSlider(min=1,max=30,value=dimsliderval2,description='Dimension:',continuous_update=False)\n",
        "    dimslider2.observe(on_value_change2, names='value')\n",
        "\n",
        "    Tauslider2 = widgets.FloatSlider(min=0.1,max=4.5,step=0.1,value=tausliderval2,description=r'tau :' ,continuous_update=False)\n",
        "    Tauslider2.observe(on_value_change2, names='value')\n",
        "\n",
        "    display(widgets.HBox(( dimslider2,Tauslider2)))\n",
        "    display(widgets.HBox(( secondfreq2,noiseampslider2)))\n",
        "\n",
        "    # Step 1: Setup the signal\n",
        "    T1 = 10 # The period of the first sine in number of samples\n",
        "    T2 = T1*secondfreq2.value # The period of the second sine in number of samples\n",
        "    NPeriods = 5 # How many periods to go through, relative to the second sinusoid\n",
        "    N = T2*NPeriods # The total number of samples\n",
        "    t = np.arange(N) # Time indices\n",
        "    signal2 = np.cos(2*np.pi*(1.0/T1)*t) # The first sinusoid\n",
        "    signal2 += np.cos(2*np.pi*(1.0/T2)*t) # The second sinusoid\n",
        "    signal2 += noiseampslider2.value * noise[:len(signal2)]\n",
        "\n",
        "    #Step 2: Do a sliding window embedding\n",
        "    dim = dimslider2.value\n",
        "    Tau = Tauslider2.value\n",
        "    dT = 0.35\n",
        "    X = getSlidingWindow(signal2, dim, Tau, dT)\n",
        "    extent = Tau*dim\n",
        "\n",
        "    #Step 3: Do Rips Filtration\n",
        "    if X.shape[0] > 200 :\n",
        "      PDs = ripser(X, maxdim=2, n_perm=200)['dgms']\n",
        "    else :\n",
        "      PDs = ripser(X, maxdim=2)['dgms']\n",
        "\n",
        "    #Step 4: Perform PCA down to 2D for visualization\n",
        "    pca = PCA()\n",
        "    Y = pca.fit_transform(X)\n",
        "    eigs = pca.explained_variance_\n",
        "\n",
        "    #Step 5: Plot original signal and the persistence diagram\n",
        "    gs = gridspec.GridSpec(3, 2,width_ratios=[1, 2],height_ratios=[2,2,1])\n",
        "    \n",
        "    ax = plt.subplot(gs[0,1])\n",
        "    ax.plot(signal2)\n",
        "    ax.set_ylim((1.25*min(signal2), 1.25*max(signal2)))\n",
        "    ax.set_title(\"Original Signal\")\n",
        "    yr = np.max(signal2)-np.min(signal2)\n",
        "    yr = [np.min(signal2)-0.1*yr, np.max(signal2)+0.1*yr]\n",
        "    ax.plot([extent, extent], yr, 'r')\n",
        "    ax.plot([0, 0], yr, 'r')     \n",
        "    ax.plot([0, extent], [yr[0]]*2, 'r')\n",
        "    ax.plot([0, extent], [yr[1]]*2, 'r')\n",
        "\n",
        "    ax2 = plt.subplot(gs[0:2,0])\n",
        "    plot_diagrams(PDs)\n",
        "\n",
        "\n",
        "    c = plt.get_cmap('jet')\n",
        "    C = c(np.array(np.round(np.linspace(0, 255, Y.shape[0])), dtype=np.int32))\n",
        "    C = C[:, 0:3]\n",
        "    ax4 = fig.add_subplot(gs[1:,1], projection = '3d')\n",
        "    ax4.set_title(\"PCA of Sliding Window Embedding\")\n",
        "    ax4.scatter(Y[:, 0], Y[:, 1], Y[:, 2], c=C)\n",
        "    plt.tight_layout()\n",
        "\n",
        "execute_computation3()"
      ],
      "execution_count": null,
      "outputs": []
    },
    {
      "cell_type": "markdown",
      "metadata": {
        "id": "q3XXT9ofJ7LI"
      },
      "source": [
        "# **Optional**: An example of dissonance detection\n",
        "We use persistence homology to detect dissonance in music.\n",
        "We dowload a recording of a tritone, which consists of an interval (two notes played at the same time), in which the second frequency is $\\sqrt{2}$ times the first frequency. In particular, the two frequencies are inconmensurable over the rational numbers, and thus one should be able to find parameters for the sliding window embedding to get a 2D torus.\n",
        "\n",
        "To solve this exercise, you may want to take a look at [Sliding Window Persistence of Quasiperiodic Functions](https://arxiv.org/pdf/2103.04540.pdf). Gakhar, Perea, 2021"
      ]
    },
    {
      "cell_type": "code",
      "metadata": {
        "id": "DhGFPvOaHRAv",
        "colab": {
          "base_uri": "https://localhost:8080/"
        },
        "outputId": "d787a6da-4d6a-4e11-b502-4a585070ebae"
      },
      "source": [
        "! wget https://github.com/LuisScoccola/emalca-applied-topology-minicourse/blob/main/data/tritone.wav?raw=true -O tritone.wav"
      ],
      "execution_count": 11,
      "outputs": [
        {
          "output_type": "stream",
          "name": "stdout",
          "text": [
            "--2021-11-17 13:25:10--  https://github.com/LuisScoccola/emalca-applied-topology-minicourse/blob/main/data/tritone.wav?raw=true\n",
            "Resolving github.com (github.com)... 140.82.114.4\n",
            "Connecting to github.com (github.com)|140.82.114.4|:443... connected.\n",
            "HTTP request sent, awaiting response... 302 Found\n",
            "Location: https://github.com/LuisScoccola/emalca-applied-topology-minicourse/raw/main/data/tritone.wav [following]\n",
            "--2021-11-17 13:25:10--  https://github.com/LuisScoccola/emalca-applied-topology-minicourse/raw/main/data/tritone.wav\n",
            "Reusing existing connection to github.com:443.\n",
            "HTTP request sent, awaiting response... 302 Found\n",
            "Location: https://raw.githubusercontent.com/LuisScoccola/emalca-applied-topology-minicourse/main/data/tritone.wav [following]\n",
            "--2021-11-17 13:25:10--  https://raw.githubusercontent.com/LuisScoccola/emalca-applied-topology-minicourse/main/data/tritone.wav\n",
            "Resolving raw.githubusercontent.com (raw.githubusercontent.com)... 185.199.108.133, 185.199.109.133, 185.199.110.133, ...\n",
            "Connecting to raw.githubusercontent.com (raw.githubusercontent.com)|185.199.108.133|:443... connected.\n",
            "HTTP request sent, awaiting response... 200 OK\n",
            "Length: 890078 (869K) [audio/wav]\n",
            "Saving to: ‘tritone.wav’\n",
            "\n",
            "tritone.wav         100%[===================>] 869.22K  --.-KB/s    in 0.01s   \n",
            "\n",
            "2021-11-17 13:25:10 (62.4 MB/s) - ‘tritone.wav’ saved [890078/890078]\n",
            "\n"
          ]
        }
      ]
    },
    {
      "cell_type": "code",
      "metadata": {
        "id": "4tSv_gKYQOiL"
      },
      "source": [
        "sample_rate, X = scipy.io.wavfile.read(\"tritone.wav\")\n",
        "signal3 = X[10000:40000,0]/np.max(X[10000:40000,0])\n",
        "\n",
        "plt.figure(figsize=(10,2))\n",
        "plt.plot(np.arange(len(signal3))/float(sample_rate), signal3)\n",
        "plt.xlabel(\"Time (Seconds)\")\n",
        "plt.title(\"Tritone Waveform\")\n",
        "plt.show()\n",
        "\n",
        "from IPython.display import Audio\n",
        "# load a remote WAV file\n",
        "Audio('tritone.wav')"
      ],
      "execution_count": null,
      "outputs": []
    },
    {
      "cell_type": "code",
      "metadata": {
        "id": "auFnagIfvJO4"
      },
      "source": [
        "# we can get the frequencies of each signal above by computing the Fourier transform.\n",
        "# each peak corresponds to a sinusoid, and its position determines its frequency.\n",
        "\n",
        "# interpret this plot!\n",
        "\n",
        "def plotFourierTransform(signal, sample_rate, max_frequency):\n",
        "  x = signal\n",
        "  plt.figure(figsize=(10,2))\n",
        "  P1 = np.fft.fftshift(np.abs(np.fft.fft(x)))/len(x)\n",
        "  freq = np.fft.fftshift(np.fft.fftfreq(len(x), d = 1/sample_rate))\n",
        "  plt.plot(freq, P1)\n",
        "  plt.xlim((0,max_frequency))\n",
        "  plt.xlabel(\"Frequency in Hz\")\n",
        "  plt.locator_params(axis='x', nbins=25)\n",
        "  plt.show()\n",
        "\n",
        "plotFourierTransform(signal3, sample_rate, 1000)"
      ],
      "execution_count": null,
      "outputs": []
    },
    {
      "cell_type": "code",
      "metadata": {
        "scrolled": true,
        "id": "SPbXQ7rsQOiN"
      },
      "source": [
        "# Find the torus!\n",
        "\n",
        "# Change the following parameters:\n",
        "tau = 0.028\n",
        "dim = 8\n",
        "\n",
        "\n",
        "# sliding window\n",
        "Y = getSlidingWindow(signal3, dim, tau * sample_rate, 1)\n",
        "# persistence diagram\n",
        "PDs = ripser(Y, maxdim=2, thresh = 1.2, n_perm = 2200)\n",
        "PD = PDs['dgms']\n",
        "plt.figure()\n",
        "plot_diagrams(PD)"
      ],
      "execution_count": null,
      "outputs": []
    }
  ]
}